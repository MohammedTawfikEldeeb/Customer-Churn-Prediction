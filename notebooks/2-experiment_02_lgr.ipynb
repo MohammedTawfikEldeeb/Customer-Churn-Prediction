{
 "cells": [
  {
   "cell_type": "code",
   "execution_count": 1,
   "id": "67f97a88",
   "metadata": {},
   "outputs": [],
   "source": [
    "import os\n",
    "import mlflow\n",
    "import mlflow.sklearn\n",
    "from sklearn.linear_model import LogisticRegression\n",
    "from sklearn.metrics import accuracy_score, precision_score, recall_score, f1_score, confusion_matrix, ConfusionMatrixDisplay\n",
    "import matplotlib.pyplot as plt\n",
    "import pandas as pd\n",
    "import numpy as np "
   ]
  },
  {
   "cell_type": "code",
   "execution_count": 2,
   "id": "debfe800",
   "metadata": {},
   "outputs": [],
   "source": [
    "project_root = os.path.abspath(os.path.join(os.getcwd(), \"..\"))\n",
    "processed_dir = os.path.join(project_root, \"notebooks\", \"data\")\n",
    "\n",
    "X_train = pd.read_csv(os.path.join(processed_dir, \"X_train_scaled.csv\"))\n",
    "y_train = pd.read_csv(os.path.join(processed_dir, \"y_train.csv\"))\n",
    "\n",
    "X_valid = pd.read_csv(os.path.join(processed_dir, \"X_valid_scaled.csv\"))\n",
    "y_valid = pd.read_csv(os.path.join(processed_dir, \"y_valid.csv\"))\n",
    "\n",
    "df_test = pd.read_csv(os.path.join(processed_dir, \"test_preprocessed.csv\"))\n",
    "# Assuming the test set has a 'Churn' column for evaluation\n",
    "X_test = df_test.drop(columns=[\"Churn\"])\n",
    "y_test = df_test[\"Churn\"]"
   ]
  },
  {
   "cell_type": "code",
   "execution_count": 4,
   "id": "e2659eff",
   "metadata": {},
   "outputs": [
    {
     "name": "stdout",
     "output_type": "stream",
     "text": [
      "Starting run: Baseline Logistic Regression\n",
      "Logging parameters...\n",
      "Training the model...\n",
      "Evaluating on validation set...\n",
      "Logging validation metrics...\n",
      "Validation F1-Score: 0.8648\n",
      "Evaluating on test set...\n"
     ]
    },
    {
     "name": "stderr",
     "output_type": "stream",
     "text": [
      "c:\\Mohamed\\Work\\Customer-Churn\\.venv\\Lib\\site-packages\\sklearn\\metrics\\_classification.py:1731: UndefinedMetricWarning: Precision is ill-defined and being set to 0.0 due to no predicted samples. Use `zero_division` parameter to control this behavior.\n",
      "  _warn_prf(average, modifier, f\"{metric.capitalize()} is\", result.shape[0])\n"
     ]
    },
    {
     "name": "stdout",
     "output_type": "stream",
     "text": [
      "Logging test metrics...\n",
      "Test F1-Score: 0.0000\n",
      "Generating and logging confusion matrix...\n"
     ]
    },
    {
     "name": "stderr",
     "output_type": "stream",
     "text": [
      "2025/08/24 11:50:10 WARNING mlflow.models.model: `artifact_path` is deprecated. Please use `name` instead.\n"
     ]
    },
    {
     "name": "stdout",
     "output_type": "stream",
     "text": [
      "Logging the model...\n"
     ]
    },
    {
     "name": "stderr",
     "output_type": "stream",
     "text": [
      "2025/08/24 11:50:15 WARNING mlflow.utils.environment: Failed to resolve installed pip version. ``pip`` will be added to conda.yaml environment spec without a version specifier.\n",
      "2025/08/24 11:50:15 WARNING mlflow.models.model: Model logged without a signature and input example. Please set `input_example` parameter when logging the model to auto infer the model signature.\n"
     ]
    },
    {
     "name": "stdout",
     "output_type": "stream",
     "text": [
      "\n",
      "✅ Run completed successfully!\n",
      "To see your run, open a terminal and type: mlflow ui\n"
     ]
    }
   ],
   "source": [
    "mlflow.set_experiment(\"Customer Churn Classification\")\n",
    "\n",
    "# Start a new MLflow run\n",
    "with mlflow.start_run(run_name=\"Baseline Logistic Regression\") as run:\n",
    "    print(f\"Starting run: {run.info.run_name}\")\n",
    "    \n",
    "\n",
    "    lgr_params = {\n",
    "        'class_weight': 'balanced',\n",
    "    }\n",
    "    lgr = LogisticRegression(**lgr_params)\n",
    "    \n",
    "    # Log the model's parameters\n",
    "    print(\"Logging parameters...\")\n",
    "    mlflow.log_params(lgr_params)\n",
    "\n",
    "    # --- b. Train the Model ---\n",
    "    print(\"Training the model...\")\n",
    "    # Use .values.ravel() to ensure y_train is a 1D array, which sklearn expects\n",
    "    lgr.fit(X_train, y_train.values.ravel())\n",
    "\n",
    "    # --- c. Evaluate on Validation Set ---\n",
    "    print(\"Evaluating on validation set...\")\n",
    "    y_pred_valid = lgr.predict(X_valid)\n",
    "    \n",
    "    # Calculate validation metrics\n",
    "    valid_accuracy = accuracy_score(y_valid, y_pred_valid)\n",
    "    valid_precision = precision_score(y_valid, y_pred_valid)\n",
    "    valid_recall = recall_score(y_valid, y_pred_valid)\n",
    "    valid_f1 = f1_score(y_valid, y_pred_valid)\n",
    "    \n",
    "    # Log validation metrics\n",
    "    print(\"Logging validation metrics...\")\n",
    "    validation_metrics = {\n",
    "        \"validation_accuracy\": valid_accuracy,\n",
    "        \"validation_precision\": valid_precision,\n",
    "        \"validation_recall\": valid_recall,\n",
    "        \"validation_f1_score\": valid_f1\n",
    "    }\n",
    "    mlflow.log_metrics(validation_metrics)\n",
    "    print(f\"Validation F1-Score: {valid_f1:.4f}\")\n",
    "\n",
    "    # --- d. Evaluate on Test Set ---\n",
    "    print(\"Evaluating on test set...\")\n",
    "    y_pred_test = lgr.predict(X_test)\n",
    "\n",
    "    # Calculate test metrics\n",
    "    test_accuracy = accuracy_score(y_test, y_pred_test)\n",
    "    test_precision = precision_score(y_test, y_pred_test)\n",
    "    test_recall = recall_score(y_test, y_pred_test)\n",
    "    test_f1 = f1_score(y_test, y_pred_test)\n",
    "\n",
    "    # Log test metrics\n",
    "    print(\"Logging test metrics...\")\n",
    "    test_metrics = {\n",
    "        \"test_accuracy\": test_accuracy,\n",
    "        \"test_precision\": test_precision,\n",
    "        \"test_recall\": test_recall,\n",
    "        \"test_f1_score\": test_f1\n",
    "    }\n",
    "    mlflow.log_metrics(test_metrics)\n",
    "    print(f\"Test F1-Score: {test_f1:.4f}\")\n",
    "\n",
    "  \n",
    "    print(\"Generating and logging confusion matrix...\")\n",
    "    cm = confusion_matrix(y_test, y_pred_test)\n",
    "    disp = ConfusionMatrixDisplay(confusion_matrix=cm)\n",
    "    disp.plot()\n",
    "    plt.title(\"Test Set Confusion Matrix\")\n",
    "    \n",
    "    # Save the plot to a file and log it as an artifact\n",
    "    plt.savefig(\"test_confusion_matrix.png\")\n",
    "    mlflow.log_artifact(\"test_confusion_matrix.png\", \"plots\")\n",
    "    plt.close()\n",
    "\n",
    "    # --- f. Log the Model ---\n",
    "    print(\"Logging the model...\")\n",
    "    mlflow.sklearn.log_model(lgr, \"logistic_regression_model\")\n",
    "    \n",
    "    print(\"\\n✅ Run completed successfully!\")\n",
    "    print(f\"To see your run, open a terminal and type: mlflow ui\")"
   ]
  },
  {
   "cell_type": "markdown",
   "id": "61acd6f2",
   "metadata": {},
   "source": [
    "# 📊 Summary of Results\n",
    "\n",
    "- **Validation Set:** F1 = 0.865 ✅  \n",
    "- **Test Set:** F1 = 0.0 ❌ (precision & recall also 0.0)  \n",
    "- The model predicted **\"Not Churned\" for every customer** → complete failure.\n",
    "\n",
    "---\n",
    "\n",
    "# ⚠ Root Cause: Why Did It Fail?\n",
    "1. **Severe Data Drift**  \n",
    "   - Training vs. test data distributions differ drastically.  \n",
    "\n",
    "2. **Over-Reliance on \"Perfect Rules\"**  \n",
    "   - Training data had deterministic patterns (e.g., Monthly Contract = 100% churn).  \n",
    "   - Logistic Regression assigned **huge weights** to these features.  \n",
    "\n",
    "3. **Rigid Decision Boundary**  \n",
    "   - Learned weights pushed probabilities below 0.5 for all test samples.  \n",
    "   - Result: model defaulted to predicting **no churn at all**.  \n",
    "\n",
    "---\n",
    "\n",
    "# ✅ Proposed Next Step: Regularization\n",
    "- Apply **L1 (Lasso) Regularization** to:  \n",
    "  - Penalize overly large weights  \n",
    "  - Reduce reliance on single \"perfect rules\"  \n",
    "  - Encourage balanced, generalizable feature importance  \n",
    "  - Automatically shrink irrelevant features to zero (feature selection)  \n"
   ]
  },
  {
   "cell_type": "code",
   "execution_count": null,
   "id": "ba1171de",
   "metadata": {},
   "outputs": [],
   "source": []
  }
 ],
 "metadata": {
  "kernelspec": {
   "display_name": ".venv",
   "language": "python",
   "name": "python3"
  },
  "language_info": {
   "codemirror_mode": {
    "name": "ipython",
    "version": 3
   },
   "file_extension": ".py",
   "mimetype": "text/x-python",
   "name": "python",
   "nbconvert_exporter": "python",
   "pygments_lexer": "ipython3",
   "version": "3.13.5"
  }
 },
 "nbformat": 4,
 "nbformat_minor": 5
}
