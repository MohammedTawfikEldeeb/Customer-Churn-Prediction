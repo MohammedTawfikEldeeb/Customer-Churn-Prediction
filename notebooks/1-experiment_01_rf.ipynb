{
 "cells": [
  {
   "cell_type": "code",
   "execution_count": 1,
   "id": "320fe665",
   "metadata": {},
   "outputs": [],
   "source": [
    "import os\n",
    "import mlflow\n",
    "import mlflow.sklearn\n",
    "from sklearn.ensemble import RandomForestClassifier\n",
    "from sklearn.metrics import accuracy_score, precision_score, recall_score, f1_score, confusion_matrix, ConfusionMatrixDisplay\n",
    "import matplotlib.pyplot as plt\n",
    "import pandas as pd\n",
    "import numpy as np "
   ]
  },
  {
   "cell_type": "code",
   "execution_count": 2,
   "id": "98e94cc8",
   "metadata": {},
   "outputs": [],
   "source": [
    "project_root = os.path.abspath(os.path.join(os.getcwd(), \"..\"))\n",
    "processed_dir = os.path.join(project_root, \"notebooks\", \"data\")\n",
    "\n",
    "X_train = pd.read_csv(os.path.join(processed_dir, \"X_train_scaled.csv\"))\n",
    "y_train = pd.read_csv(os.path.join(processed_dir, \"y_train.csv\"))\n",
    "\n",
    "X_valid = pd.read_csv(os.path.join(processed_dir, \"X_valid_scaled.csv\"))\n",
    "y_valid = pd.read_csv(os.path.join(processed_dir, \"y_valid.csv\"))\n",
    "\n",
    "df_test = pd.read_csv(os.path.join(processed_dir, \"test_preprocessed.csv\"))\n",
    "# Assuming the test set has a 'Churn' column for evaluation\n",
    "X_test = df_test.drop(columns=[\"Churn\"])\n",
    "y_test = df_test[\"Churn\"]"
   ]
  },
  {
   "cell_type": "code",
   "execution_count": 3,
   "id": "ba0c6af9",
   "metadata": {},
   "outputs": [
    {
     "name": "stdout",
     "output_type": "stream",
     "text": [
      "Starting run: Baseline RandomForest\n",
      "Logging parameters...\n",
      "Training the model...\n",
      "Evaluating on validation set...\n",
      "Logging validation metrics...\n",
      "Validation F1-Score: 0.9998\n",
      "Evaluating on test set...\n",
      "Logging test metrics...\n"
     ]
    },
    {
     "name": "stderr",
     "output_type": "stream",
     "text": [
      "2025/08/24 11:33:43 WARNING mlflow.models.model: `artifact_path` is deprecated. Please use `name` instead.\n"
     ]
    },
    {
     "name": "stdout",
     "output_type": "stream",
     "text": [
      "Test F1-Score: 0.6429\n",
      "Generating and logging confusion matrix...\n",
      "Logging the model...\n"
     ]
    },
    {
     "name": "stderr",
     "output_type": "stream",
     "text": [
      "2025/08/24 11:33:47 WARNING mlflow.utils.environment: Failed to resolve installed pip version. ``pip`` will be added to conda.yaml environment spec without a version specifier.\n",
      "2025/08/24 11:33:47 WARNING mlflow.models.model: Model logged without a signature and input example. Please set `input_example` parameter when logging the model to auto infer the model signature.\n"
     ]
    },
    {
     "name": "stdout",
     "output_type": "stream",
     "text": [
      "\n",
      "✅ Run completed successfully!\n",
      "To see your run, open a terminal and type: mlflow ui\n"
     ]
    }
   ],
   "source": [
    "mlflow.set_experiment(\"Customer Churn Classification\")\n",
    "\n",
    "# Start a new MLflow run\n",
    "with mlflow.start_run(run_name=\"Baseline RandomForest\") as run:\n",
    "    print(f\"Starting run: {run.info.run_name}\")\n",
    "    \n",
    "\n",
    "    rf_params = {\n",
    "        'n_estimators': 100,\n",
    "        'max_depth': None, \n",
    "        'class_weight': 'balanced',\n",
    "        'random_state': 42\n",
    "    }\n",
    "    rf = RandomForestClassifier(**rf_params)\n",
    "    \n",
    "    # Log the model's parameters\n",
    "    print(\"Logging parameters...\")\n",
    "    mlflow.log_params(rf_params)\n",
    "\n",
    "    # --- b. Train the Model ---\n",
    "    print(\"Training the model...\")\n",
    "    # Use .values.ravel() to ensure y_train is a 1D array, which sklearn expects\n",
    "    rf.fit(X_train, y_train.values.ravel())\n",
    "\n",
    "    # --- c. Evaluate on Validation Set ---\n",
    "    print(\"Evaluating on validation set...\")\n",
    "    y_pred_valid = rf.predict(X_valid)\n",
    "    \n",
    "    # Calculate validation metrics\n",
    "    valid_accuracy = accuracy_score(y_valid, y_pred_valid)\n",
    "    valid_precision = precision_score(y_valid, y_pred_valid)\n",
    "    valid_recall = recall_score(y_valid, y_pred_valid)\n",
    "    valid_f1 = f1_score(y_valid, y_pred_valid)\n",
    "    \n",
    "    # Log validation metrics\n",
    "    print(\"Logging validation metrics...\")\n",
    "    validation_metrics = {\n",
    "        \"validation_accuracy\": valid_accuracy,\n",
    "        \"validation_precision\": valid_precision,\n",
    "        \"validation_recall\": valid_recall,\n",
    "        \"validation_f1_score\": valid_f1\n",
    "    }\n",
    "    mlflow.log_metrics(validation_metrics)\n",
    "    print(f\"Validation F1-Score: {valid_f1:.4f}\")\n",
    "\n",
    "    # --- d. Evaluate on Test Set ---\n",
    "    print(\"Evaluating on test set...\")\n",
    "    y_pred_test = rf.predict(X_test)\n",
    "\n",
    "    # Calculate test metrics\n",
    "    test_accuracy = accuracy_score(y_test, y_pred_test)\n",
    "    test_precision = precision_score(y_test, y_pred_test)\n",
    "    test_recall = recall_score(y_test, y_pred_test)\n",
    "    test_f1 = f1_score(y_test, y_pred_test)\n",
    "\n",
    "    # Log test metrics\n",
    "    print(\"Logging test metrics...\")\n",
    "    test_metrics = {\n",
    "        \"test_accuracy\": test_accuracy,\n",
    "        \"test_precision\": test_precision,\n",
    "        \"test_recall\": test_recall,\n",
    "        \"test_f1_score\": test_f1\n",
    "    }\n",
    "    mlflow.log_metrics(test_metrics)\n",
    "    print(f\"Test F1-Score: {test_f1:.4f}\")\n",
    "\n",
    "    # --- e. Log Artifacts (like plots) ---\n",
    "    print(\"Generating and logging confusion matrix...\")\n",
    "    cm = confusion_matrix(y_test, y_pred_test)\n",
    "    disp = ConfusionMatrixDisplay(confusion_matrix=cm)\n",
    "    disp.plot()\n",
    "    plt.title(\"Test Set Confusion Matrix\")\n",
    "    \n",
    "    # Save the plot to a file and log it as an artifact\n",
    "    plt.savefig(\"test_confusion_matrix.png\")\n",
    "    mlflow.log_artifact(\"test_confusion_matrix.png\", \"plots\")\n",
    "    plt.close()\n",
    "\n",
    "    # --- f. Log the Model ---\n",
    "    print(\"Logging the model...\")\n",
    "    mlflow.sklearn.log_model(rf, \"random_forest_model\")\n",
    "    \n",
    "    print(\"\\n✅ Run completed successfully!\")\n",
    "    print(f\"To see your run, open a terminal and type: mlflow ui\")"
   ]
  },
  {
   "cell_type": "code",
   "execution_count": 4,
   "id": "d8990e00",
   "metadata": {},
   "outputs": [
    {
     "name": "stdout",
     "output_type": "stream",
     "text": [
      "^C\n"
     ]
    }
   ],
   "source": [
    "!mlflow ui"
   ]
  },
  {
   "cell_type": "markdown",
   "id": "34cf5fbf",
   "metadata": {},
   "source": [
    "#  Overfitting Analysis & Proposed Next Step\n",
    "\n",
    "The model shows **strong performance on the training set** but performs **significantly worse on the testing set** — a clear indication of **overfitting**.\n",
    "\n",
    "---\n",
    "\n",
    "## ⚠ Root Cause  \n",
    "The training data contains overly simplistic, deterministic patterns that the model has **memorized** rather than learning **generalizable trends**.  \n",
    "\n",
    "These \"perfect rules\" include:\n",
    "\n",
    "- 📌 All customers with **monthly contracts** churned  \n",
    "- 📌 All customers with **more than 5 support calls** churned  \n",
    "- 📌 All customers **over 50 years old** churned  \n",
    "- 📌 All customers with **payment delays over 20 days** churned  \n",
    "\n",
    "These absolute patterns **do not hold true** in validation or test data, leading to poor generalization.\n",
    "\n",
    "---\n",
    "\n",
    "## ✅ Proposed Next Step  \n",
    "To address overfitting, the next step is to try a **simpler model** such as **Logistic Regression**.  \n",
    "\n",
    "- A **less complex model** is less prone to memorizing artifacts in the training data.  \n",
    "- It is more likely to capture **robust, generalizable patterns** that extend to unseen samples.  \n"
   ]
  },
  {
   "cell_type": "code",
   "execution_count": null,
   "id": "48959001",
   "metadata": {},
   "outputs": [],
   "source": []
  }
 ],
 "metadata": {
  "kernelspec": {
   "display_name": ".venv",
   "language": "python",
   "name": "python3"
  },
  "language_info": {
   "codemirror_mode": {
    "name": "ipython",
    "version": 3
   },
   "file_extension": ".py",
   "mimetype": "text/x-python",
   "name": "python",
   "nbconvert_exporter": "python",
   "pygments_lexer": "ipython3",
   "version": "3.13.5"
  }
 },
 "nbformat": 4,
 "nbformat_minor": 5
}
