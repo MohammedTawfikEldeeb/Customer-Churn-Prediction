{
 "cells": [
  {
   "cell_type": "code",
   "execution_count": 1,
   "id": "c6e1c2f5",
   "metadata": {},
   "outputs": [],
   "source": [
    "import os\n",
    "import mlflow\n",
    "import mlflow.sklearn\n",
    "from sklearn.linear_model import LogisticRegression\n",
    "from sklearn.ensemble import RandomForestClassifier\n",
    "from sklearn.metrics import accuracy_score, precision_score, recall_score, f1_score, confusion_matrix, ConfusionMatrixDisplay\n",
    "import matplotlib.pyplot as plt\n",
    "import pandas as pd\n",
    "import numpy as np"
   ]
  },
  {
   "cell_type": "code",
   "execution_count": 2,
   "id": "37f0f465",
   "metadata": {},
   "outputs": [],
   "source": [
    "project_root = os.path.abspath(os.path.join(os.getcwd(), \"..\"))\n",
    "processed_dir = os.path.join(project_root, \"notebooks\", \"data\")\n",
    "\n",
    "X_train = pd.read_csv(os.path.join(processed_dir, \"X_train_scaled_merged.csv\"))\n",
    "y_train = pd.read_csv(os.path.join(processed_dir, \"y_train_merged.csv\"))      \n",
    "\n",
    "X_valid = pd.read_csv(os.path.join(processed_dir, \"X_valid_scaled_merged.csv\"))\n",
    "y_valid = pd.read_csv(os.path.join(processed_dir, \"y_valid_merged.csv\"))\n",
    "\n",
    "X_test = pd.read_csv(os.path.join(processed_dir, \"X_test_scaled_merged.csv\"))\n",
    "y_test = pd.read_csv(os.path.join(processed_dir, \"y_test_merged.csv\"))"
   ]
  },
  {
   "cell_type": "code",
   "execution_count": 4,
   "id": "7e1e1fe0",
   "metadata": {},
   "outputs": [
    {
     "name": "stdout",
     "output_type": "stream",
     "text": [
      "\n",
      "--- Starting Run: RandomForestClassifier ---\n",
      "RandomForestClassifier...\n",
      "Evaluating on Validation Set...\n",
      "Validation F1-Score: 0.9450\n",
      "Evaluating on Test Set...\n"
     ]
    },
    {
     "name": "stderr",
     "output_type": "stream",
     "text": [
      "2025/08/24 12:57:21 WARNING mlflow.models.model: `artifact_path` is deprecated. Please use `name` instead.\n"
     ]
    },
    {
     "name": "stdout",
     "output_type": "stream",
     "text": [
      "Test F1-Score: 0.9450\n"
     ]
    },
    {
     "name": "stderr",
     "output_type": "stream",
     "text": [
      "2025/08/24 12:57:26 WARNING mlflow.utils.environment: Failed to resolve installed pip version. ``pip`` will be added to conda.yaml environment spec without a version specifier.\n",
      "2025/08/24 12:57:26 WARNING mlflow.models.model: Model logged without a signature and input example. Please set `input_example` parameter when logging the model to auto infer the model signature.\n"
     ]
    },
    {
     "name": "stdout",
     "output_type": "stream",
     "text": [
      "--- Run Finished ---\n"
     ]
    }
   ],
   "source": [
    "mlflow.set_experiment(\"Customer_Churn_New_Split\")\n",
    "\n",
    "\n",
    "with mlflow.start_run(run_name=\"Baseline_RandomForestClassifier\") as run:\n",
    "    print(\"\\n--- Starting Run: RandomForestClassifier ---\")\n",
    "\n",
    "    rf_params = {\n",
    "        'n_estimators': 100,\n",
    "        'max_depth': None, \n",
    "        'class_weight': 'balanced',\n",
    "        'random_state': 42\n",
    "    }\n",
    "    rf = RandomForestClassifier(**rf_params)\n",
    "    \n",
    "    mlflow.log_params(rf_params)\n",
    "\n",
    "    # --- b. Train the Model ---\n",
    "    print(\"RandomForestClassifier...\")\n",
    "    # Make sure y_train, y_valid, y_test are 1D arrays using .values.ravel()\n",
    "    rf.fit(X_train, y_train.values.ravel())\n",
    "    \n",
    "    # --- c. Evaluate on Validation Set ---\n",
    "    print(\"Evaluating on Validation Set...\")\n",
    "    y_pred_val = rf.predict(X_valid)\n",
    "    val_f1 = f1_score(y_valid, y_pred_val)\n",
    "    val_accuracy = accuracy_score(y_valid, y_pred_val)\n",
    "    \n",
    "    mlflow.log_metric(\"validation_accuracy\", val_accuracy)\n",
    "    mlflow.log_metric(\"validation_f1_score\", val_f1)\n",
    "    print(f\"Validation F1-Score: {val_f1:.4f}\")\n",
    "\n",
    "    # --- d. Evaluate on Test Set ---\n",
    "    print(\"Evaluating on Test Set...\")\n",
    "    y_pred_test = rf.predict(X_test)\n",
    "    test_f1 = f1_score(y_test, y_pred_test)\n",
    "    test_accuracy = accuracy_score(y_test, y_pred_test)\n",
    "    test_precision = precision_score(y_test, y_pred_test)\n",
    "    test_recall = recall_score(y_test, y_pred_test)\n",
    "    \n",
    "    mlflow.log_metric(\"test_accuracy\", test_accuracy)\n",
    "    mlflow.log_metric(\"test_precision\", test_precision)\n",
    "    mlflow.log_metric(\"test_recall\", test_recall)\n",
    "    mlflow.log_metric(\"test_f1_score\", test_f1)\n",
    "    print(f\"Test F1-Score: {test_f1:.4f}\")\n",
    "\n",
    "    # --- e. Log the Model ---\n",
    "    mlflow.sklearn.log_model(rf, \"logistic_regression_model\")\n",
    "    \n",
    "    print(\"--- Run Finished ---\")"
   ]
  },
  {
   "cell_type": "markdown",
   "id": "63b645fe",
   "metadata": {},
   "source": [
    "# 🌲 Final Model Results: Random Forest Classifier\n",
    "\n",
    "## 🚀 Key Findings\n",
    "- **Outstanding Performance**: Test F1 = **0.945**, far above the Logistic Regression baseline.  \n",
    "- **Near-Perfect Recall**: Recall = **0.998** → 99.8% of churners correctly identified.  \n",
    "- **High Precision**: Precision = **0.897** → nearly 90% of flagged churners are correct.  \n",
    "- **Proven Stability**: Validation and test metrics are nearly identical → no overfitting.  \n",
    "\n",
    "---\n",
    "\n",
    "## 📈 Performance Metrics\n",
    "| Metric     | Validation | Test   |\n",
    "|------------|------------|--------|\n",
    "| F1-Score   | 0.9450     | 0.9450 |\n",
    "| Accuracy   | 0.9355     | 0.9354 |\n",
    "| Precision  | -          | 0.8971 |\n",
    "| Recall     | -          | 0.9982 |\n",
    "\n",
    "---\n",
    "\n",
    "## ✅ Conclusion\n",
    "The **Random Forest** is a clear success:  \n",
    "- High F1-score  \n",
    "- Exceptional recall  \n",
    "- Strong precision  \n",
    "- Proven stability  \n",
    "\n",
    "👉 This makes it the **ideal model for churn prediction**, offering both accuracy and business value by minimizing missed opportunities for customer retention.  \n"
   ]
  },
  {
   "cell_type": "code",
   "execution_count": null,
   "id": "fca45cc6",
   "metadata": {},
   "outputs": [],
   "source": []
  }
 ],
 "metadata": {
  "kernelspec": {
   "display_name": ".venv",
   "language": "python",
   "name": "python3"
  },
  "language_info": {
   "codemirror_mode": {
    "name": "ipython",
    "version": 3
   },
   "file_extension": ".py",
   "mimetype": "text/x-python",
   "name": "python",
   "nbconvert_exporter": "python",
   "pygments_lexer": "ipython3",
   "version": "3.13.5"
  }
 },
 "nbformat": 4,
 "nbformat_minor": 5
}
