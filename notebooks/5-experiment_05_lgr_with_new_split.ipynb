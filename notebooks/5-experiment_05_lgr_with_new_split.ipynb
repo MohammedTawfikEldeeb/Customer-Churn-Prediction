{
 "cells": [
  {
   "cell_type": "code",
   "execution_count": 1,
   "id": "c5e030b6",
   "metadata": {},
   "outputs": [],
   "source": [
    "import os\n",
    "import mlflow\n",
    "import mlflow.sklearn\n",
    "from sklearn.linear_model import LogisticRegression\n",
    "from sklearn.ensemble import RandomForestClassifier\n",
    "from sklearn.metrics import accuracy_score, precision_score, recall_score, f1_score, confusion_matrix, ConfusionMatrixDisplay\n",
    "import matplotlib.pyplot as plt\n",
    "import pandas as pd\n",
    "import numpy as np"
   ]
  },
  {
   "cell_type": "code",
   "execution_count": 2,
   "id": "0e7b4c9f",
   "metadata": {},
   "outputs": [],
   "source": [
    "project_root = os.path.abspath(os.path.join(os.getcwd(), \"..\"))\n",
    "processed_dir = os.path.join(project_root, \"notebooks\", \"data\")\n",
    "\n",
    "X_train = pd.read_csv(os.path.join(processed_dir, \"X_train_scaled_merged.csv\"))\n",
    "y_train = pd.read_csv(os.path.join(processed_dir, \"y_train_merged.csv\"))      \n",
    "\n",
    "X_valid = pd.read_csv(os.path.join(processed_dir, \"X_valid_scaled_merged.csv\"))\n",
    "y_valid = pd.read_csv(os.path.join(processed_dir, \"y_valid_merged.csv\"))\n",
    "\n",
    "X_test = pd.read_csv(os.path.join(processed_dir, \"X_test_scaled_merged.csv\"))\n",
    "y_test = pd.read_csv(os.path.join(processed_dir, \"y_test_merged.csv\"))"
   ]
  },
  {
   "cell_type": "code",
   "execution_count": 3,
   "id": "79df199b",
   "metadata": {},
   "outputs": [
    {
     "name": "stdout",
     "output_type": "stream",
     "text": [
      "\n",
      "--- Starting Run: Baseline Logistic Regression ---\n",
      "Training Logistic Regression...\n",
      "Evaluating on Validation Set...\n",
      "Validation F1-Score: 0.8259\n",
      "Evaluating on Test Set...\n"
     ]
    },
    {
     "name": "stderr",
     "output_type": "stream",
     "text": [
      "2025/08/24 12:48:39 WARNING mlflow.models.model: `artifact_path` is deprecated. Please use `name` instead.\n"
     ]
    },
    {
     "name": "stdout",
     "output_type": "stream",
     "text": [
      "Test F1-Score: 0.8268\n"
     ]
    },
    {
     "name": "stderr",
     "output_type": "stream",
     "text": [
      "2025/08/24 12:48:43 WARNING mlflow.utils.environment: Failed to resolve installed pip version. ``pip`` will be added to conda.yaml environment spec without a version specifier.\n",
      "2025/08/24 12:48:43 WARNING mlflow.models.model: Model logged without a signature and input example. Please set `input_example` parameter when logging the model to auto infer the model signature.\n"
     ]
    },
    {
     "name": "stdout",
     "output_type": "stream",
     "text": [
      "--- Run Finished ---\n"
     ]
    }
   ],
   "source": [
    "mlflow.set_experiment(\"Customer_Churn_New_Split\")\n",
    "\n",
    "\n",
    "with mlflow.start_run(run_name=\"Baseline_Logistic_Regression\") as run:\n",
    "    print(\"\\n--- Starting Run: Baseline Logistic Regression ---\")\n",
    "\n",
    "    lgr_params = {\n",
    "        'class_weight': 'balanced',\n",
    "        'random_state': 42\n",
    "    }\n",
    "    lgr = LogisticRegression(**lgr_params)\n",
    "    \n",
    "    mlflow.log_params(lgr_params)\n",
    "\n",
    "    # --- b. Train the Model ---\n",
    "    print(\"Training Logistic Regression...\")\n",
    "    # Make sure y_train, y_valid, y_test are 1D arrays using .values.ravel()\n",
    "    lgr.fit(X_train, y_train.values.ravel())\n",
    "    \n",
    "    # --- c. Evaluate on Validation Set ---\n",
    "    print(\"Evaluating on Validation Set...\")\n",
    "    y_pred_val = lgr.predict(X_valid)\n",
    "    val_f1 = f1_score(y_valid, y_pred_val)\n",
    "    val_accuracy = accuracy_score(y_valid, y_pred_val)\n",
    "    \n",
    "    mlflow.log_metric(\"validation_accuracy\", val_accuracy)\n",
    "    mlflow.log_metric(\"validation_f1_score\", val_f1)\n",
    "    print(f\"Validation F1-Score: {val_f1:.4f}\")\n",
    "\n",
    "    # --- d. Evaluate on Test Set ---\n",
    "    print(\"Evaluating on Test Set...\")\n",
    "    y_pred_test = lgr.predict(X_test)\n",
    "    test_f1 = f1_score(y_test, y_pred_test)\n",
    "    test_accuracy = accuracy_score(y_test, y_pred_test)\n",
    "    test_precision = precision_score(y_test, y_pred_test)\n",
    "    test_recall = recall_score(y_test, y_pred_test)\n",
    "    \n",
    "    mlflow.log_metric(\"test_accuracy\", test_accuracy)\n",
    "    mlflow.log_metric(\"test_precision\", test_precision)\n",
    "    mlflow.log_metric(\"test_recall\", test_recall)\n",
    "    mlflow.log_metric(\"test_f1_score\", test_f1)\n",
    "    print(f\"Test F1-Score: {test_f1:.4f}\")\n",
    "\n",
    "    # --- e. Log the Model ---\n",
    "    mlflow.sklearn.log_model(lgr, \"logistic_regression_model\")\n",
    "    \n",
    "    print(\"--- Run Finished ---\")"
   ]
  },
  {
   "cell_type": "markdown",
   "id": "3cdb96bd",
   "metadata": {},
   "source": [
    "#  Experiment Results: Baseline Logistic Regression (Resampled Data)\n",
    "\n",
    "## ✅ Key Findings\n",
    "- **Excellent Performance**: Test F1 = **0.827**, a strong result for a baseline model.  \n",
    "- **Stable & Generalizable**: Validation F1 = **0.826** vs. Test F1 = **0.827** → no overfitting.  \n",
    "- **Root Cause Fixed**: Confirms that earlier failures were due to **data drift**, not model choice.  \n",
    "- **Reliable Baseline**: We now have a trustworthy dataset structure for future experiments.  \n",
    "\n",
    "---\n",
    "\n",
    "## 📈 Performance Metrics\n",
    "| Metric     | Validation | Test   |\n",
    "|------------|------------|--------|\n",
    "| F1-Score   | 0.8259     | 0.8268 |\n",
    "| Accuracy   | 0.8145     | 0.8157 |\n",
    "| Precision  | -          | 0.8642 |\n",
    "| Recall     | -          | 0.7925 |\n",
    "\n",
    "---\n",
    "\n",
    "## 🚀 Next Steps\n",
    "- Build on this solid baseline by training **more complex models** (e.g., Random Forest).  \n",
    "- Goal: Capture richer patterns in the data and surpass the current F1 of ~0.827.  \n"
   ]
  },
  {
   "cell_type": "code",
   "execution_count": null,
   "id": "588de15f",
   "metadata": {},
   "outputs": [],
   "source": []
  }
 ],
 "metadata": {
  "kernelspec": {
   "display_name": ".venv",
   "language": "python",
   "name": "python3"
  },
  "language_info": {
   "codemirror_mode": {
    "name": "ipython",
    "version": 3
   },
   "file_extension": ".py",
   "mimetype": "text/x-python",
   "name": "python",
   "nbconvert_exporter": "python",
   "pygments_lexer": "ipython3",
   "version": "3.13.5"
  }
 },
 "nbformat": 4,
 "nbformat_minor": 5
}
