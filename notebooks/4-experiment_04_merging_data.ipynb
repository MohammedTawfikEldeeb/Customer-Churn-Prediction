{
 "cells": [
  {
   "cell_type": "code",
   "execution_count": 24,
   "id": "44320c2c",
   "metadata": {},
   "outputs": [],
   "source": [
    "import os\n",
    "import mlflow\n",
    "import mlflow.sklearn\n",
    "from sklearn.linear_model import LogisticRegression\n",
    "from sklearn.ensemble import RandomForestClassifier\n",
    "from sklearn.model_selection import train_test_split\n",
    "from sklearn.metrics import accuracy_score, precision_score, recall_score, f1_score, confusion_matrix, ConfusionMatrixDisplay\n",
    "import matplotlib.pyplot as plt\n",
    "import pandas as pd\n",
    "import numpy as np\n",
    "from sklearn.preprocessing import StandardScaler"
   ]
  },
  {
   "cell_type": "code",
   "execution_count": 15,
   "id": "6c3b971c",
   "metadata": {},
   "outputs": [],
   "source": [
    "project_root = os.path.abspath(os.path.join(os.getcwd(), \"..\"))\n",
    "processed_dir = os.path.join(project_root, \"notebooks\", \"data\")\n",
    "df_test = pd.read_csv(os.path.join(processed_dir, \"test_preprocessed.csv\"))\n",
    "df_train = pd.read_csv(os.path.join(processed_dir, \"train_preprocessed.csv\"))"
   ]
  },
  {
   "cell_type": "code",
   "execution_count": 19,
   "id": "eae5e27b",
   "metadata": {},
   "outputs": [
    {
     "data": {
      "text/html": [
       "<div>\n",
       "<style scoped>\n",
       "    .dataframe tbody tr th:only-of-type {\n",
       "        vertical-align: middle;\n",
       "    }\n",
       "\n",
       "    .dataframe tbody tr th {\n",
       "        vertical-align: top;\n",
       "    }\n",
       "\n",
       "    .dataframe thead th {\n",
       "        text-align: right;\n",
       "    }\n",
       "</style>\n",
       "<table border=\"1\" class=\"dataframe\">\n",
       "  <thead>\n",
       "    <tr style=\"text-align: right;\">\n",
       "      <th></th>\n",
       "      <th>Age</th>\n",
       "      <th>Gender</th>\n",
       "      <th>Tenure</th>\n",
       "      <th>Usage Frequency</th>\n",
       "      <th>Support Calls</th>\n",
       "      <th>Payment Delay</th>\n",
       "      <th>Subscription Type</th>\n",
       "      <th>Contract Length</th>\n",
       "      <th>Total Spend</th>\n",
       "      <th>Last Interaction</th>\n",
       "      <th>Churn</th>\n",
       "    </tr>\n",
       "  </thead>\n",
       "  <tbody>\n",
       "    <tr>\n",
       "      <th>0</th>\n",
       "      <td>27.0</td>\n",
       "      <td>1</td>\n",
       "      <td>14.0</td>\n",
       "      <td>28.0</td>\n",
       "      <td>3.0</td>\n",
       "      <td>16.0</td>\n",
       "      <td>2</td>\n",
       "      <td>1</td>\n",
       "      <td>862.00</td>\n",
       "      <td>9.0</td>\n",
       "      <td>1.0</td>\n",
       "    </tr>\n",
       "    <tr>\n",
       "      <th>1</th>\n",
       "      <td>40.0</td>\n",
       "      <td>1</td>\n",
       "      <td>19.0</td>\n",
       "      <td>2.0</td>\n",
       "      <td>8.0</td>\n",
       "      <td>28.0</td>\n",
       "      <td>2</td>\n",
       "      <td>1</td>\n",
       "      <td>620.81</td>\n",
       "      <td>21.0</td>\n",
       "      <td>1.0</td>\n",
       "    </tr>\n",
       "    <tr>\n",
       "      <th>2</th>\n",
       "      <td>27.0</td>\n",
       "      <td>0</td>\n",
       "      <td>57.0</td>\n",
       "      <td>3.0</td>\n",
       "      <td>0.0</td>\n",
       "      <td>24.0</td>\n",
       "      <td>2</td>\n",
       "      <td>0</td>\n",
       "      <td>915.00</td>\n",
       "      <td>26.0</td>\n",
       "      <td>1.0</td>\n",
       "    </tr>\n",
       "    <tr>\n",
       "      <th>3</th>\n",
       "      <td>40.0</td>\n",
       "      <td>1</td>\n",
       "      <td>21.0</td>\n",
       "      <td>14.0</td>\n",
       "      <td>0.0</td>\n",
       "      <td>11.0</td>\n",
       "      <td>0</td>\n",
       "      <td>0</td>\n",
       "      <td>592.83</td>\n",
       "      <td>9.0</td>\n",
       "      <td>0.0</td>\n",
       "    </tr>\n",
       "    <tr>\n",
       "      <th>4</th>\n",
       "      <td>39.0</td>\n",
       "      <td>1</td>\n",
       "      <td>58.0</td>\n",
       "      <td>4.0</td>\n",
       "      <td>2.0</td>\n",
       "      <td>8.0</td>\n",
       "      <td>2</td>\n",
       "      <td>1</td>\n",
       "      <td>694.00</td>\n",
       "      <td>15.0</td>\n",
       "      <td>1.0</td>\n",
       "    </tr>\n",
       "  </tbody>\n",
       "</table>\n",
       "</div>"
      ],
      "text/plain": [
       "    Age  Gender  Tenure  Usage Frequency  Support Calls  Payment Delay  \\\n",
       "0  27.0       1    14.0             28.0            3.0           16.0   \n",
       "1  40.0       1    19.0              2.0            8.0           28.0   \n",
       "2  27.0       0    57.0              3.0            0.0           24.0   \n",
       "3  40.0       1    21.0             14.0            0.0           11.0   \n",
       "4  39.0       1    58.0              4.0            2.0            8.0   \n",
       "\n",
       "   Subscription Type  Contract Length  Total Spend  Last Interaction  Churn  \n",
       "0                  2                1       862.00               9.0    1.0  \n",
       "1                  2                1       620.81              21.0    1.0  \n",
       "2                  2                0       915.00              26.0    1.0  \n",
       "3                  0                0       592.83               9.0    0.0  \n",
       "4                  2                1       694.00              15.0    1.0  "
      ]
     },
     "execution_count": 19,
     "metadata": {},
     "output_type": "execute_result"
    }
   ],
   "source": [
    "full_df = pd.concat([df_train, df_test], ignore_index=True)\n",
    "full_df.head()"
   ]
  },
  {
   "cell_type": "code",
   "execution_count": 20,
   "id": "aa68d1c8",
   "metadata": {},
   "outputs": [
    {
     "data": {
      "text/plain": [
       "(505206, 11)"
      ]
     },
     "execution_count": 20,
     "metadata": {},
     "output_type": "execute_result"
    }
   ],
   "source": [
    "full_df.shape"
   ]
  },
  {
   "cell_type": "code",
   "execution_count": 21,
   "id": "4d27ffca",
   "metadata": {},
   "outputs": [
    {
     "data": {
      "text/plain": [
       "Churn\n",
       "1.0    280492\n",
       "0.0    224714\n",
       "Name: count, dtype: int64"
      ]
     },
     "execution_count": 21,
     "metadata": {},
     "output_type": "execute_result"
    }
   ],
   "source": [
    "full_df[\"Churn\"].value_counts()"
   ]
  },
  {
   "cell_type": "code",
   "execution_count": 22,
   "id": "0800a154",
   "metadata": {},
   "outputs": [
    {
     "data": {
      "text/html": [
       "<div>\n",
       "<style scoped>\n",
       "    .dataframe tbody tr th:only-of-type {\n",
       "        vertical-align: middle;\n",
       "    }\n",
       "\n",
       "    .dataframe tbody tr th {\n",
       "        vertical-align: top;\n",
       "    }\n",
       "\n",
       "    .dataframe thead th {\n",
       "        text-align: right;\n",
       "    }\n",
       "</style>\n",
       "<table border=\"1\" class=\"dataframe\">\n",
       "  <thead>\n",
       "    <tr style=\"text-align: right;\">\n",
       "      <th></th>\n",
       "      <th>Age</th>\n",
       "      <th>Gender</th>\n",
       "      <th>Tenure</th>\n",
       "      <th>Usage Frequency</th>\n",
       "      <th>Support Calls</th>\n",
       "      <th>Payment Delay</th>\n",
       "      <th>Subscription Type</th>\n",
       "      <th>Contract Length</th>\n",
       "      <th>Total Spend</th>\n",
       "      <th>Last Interaction</th>\n",
       "      <th>Churn</th>\n",
       "    </tr>\n",
       "  </thead>\n",
       "  <tbody>\n",
       "    <tr>\n",
       "      <th>0</th>\n",
       "      <td>22.0</td>\n",
       "      <td>0</td>\n",
       "      <td>24.0</td>\n",
       "      <td>21.0</td>\n",
       "      <td>1.0</td>\n",
       "      <td>12.0</td>\n",
       "      <td>1</td>\n",
       "      <td>0</td>\n",
       "      <td>749.40</td>\n",
       "      <td>1.0</td>\n",
       "      <td>0.0</td>\n",
       "    </tr>\n",
       "    <tr>\n",
       "      <th>1</th>\n",
       "      <td>50.0</td>\n",
       "      <td>1</td>\n",
       "      <td>34.0</td>\n",
       "      <td>28.0</td>\n",
       "      <td>10.0</td>\n",
       "      <td>27.0</td>\n",
       "      <td>1</td>\n",
       "      <td>0</td>\n",
       "      <td>209.00</td>\n",
       "      <td>22.0</td>\n",
       "      <td>1.0</td>\n",
       "    </tr>\n",
       "    <tr>\n",
       "      <th>2</th>\n",
       "      <td>44.0</td>\n",
       "      <td>1</td>\n",
       "      <td>51.0</td>\n",
       "      <td>13.0</td>\n",
       "      <td>9.0</td>\n",
       "      <td>2.0</td>\n",
       "      <td>0</td>\n",
       "      <td>2</td>\n",
       "      <td>301.38</td>\n",
       "      <td>6.0</td>\n",
       "      <td>1.0</td>\n",
       "    </tr>\n",
       "    <tr>\n",
       "      <th>3</th>\n",
       "      <td>27.0</td>\n",
       "      <td>0</td>\n",
       "      <td>39.0</td>\n",
       "      <td>17.0</td>\n",
       "      <td>3.0</td>\n",
       "      <td>2.0</td>\n",
       "      <td>1</td>\n",
       "      <td>0</td>\n",
       "      <td>267.00</td>\n",
       "      <td>5.0</td>\n",
       "      <td>1.0</td>\n",
       "    </tr>\n",
       "    <tr>\n",
       "      <th>4</th>\n",
       "      <td>28.0</td>\n",
       "      <td>1</td>\n",
       "      <td>36.0</td>\n",
       "      <td>3.0</td>\n",
       "      <td>2.0</td>\n",
       "      <td>12.0</td>\n",
       "      <td>0</td>\n",
       "      <td>2</td>\n",
       "      <td>914.80</td>\n",
       "      <td>10.0</td>\n",
       "      <td>0.0</td>\n",
       "    </tr>\n",
       "  </tbody>\n",
       "</table>\n",
       "</div>"
      ],
      "text/plain": [
       "    Age  Gender  Tenure  Usage Frequency  Support Calls  Payment Delay  \\\n",
       "0  22.0       0    24.0             21.0            1.0           12.0   \n",
       "1  50.0       1    34.0             28.0           10.0           27.0   \n",
       "2  44.0       1    51.0             13.0            9.0            2.0   \n",
       "3  27.0       0    39.0             17.0            3.0            2.0   \n",
       "4  28.0       1    36.0              3.0            2.0           12.0   \n",
       "\n",
       "   Subscription Type  Contract Length  Total Spend  Last Interaction  Churn  \n",
       "0                  1                0       749.40               1.0    0.0  \n",
       "1                  1                0       209.00              22.0    1.0  \n",
       "2                  0                2       301.38               6.0    1.0  \n",
       "3                  1                0       267.00               5.0    1.0  \n",
       "4                  0                2       914.80              10.0    0.0  "
      ]
     },
     "execution_count": 22,
     "metadata": {},
     "output_type": "execute_result"
    }
   ],
   "source": [
    "from sklearn.utils import shuffle\n",
    "full_df = shuffle(full_df, random_state=42).reset_index(drop=True)\n",
    "full_df.head()"
   ]
  },
  {
   "cell_type": "code",
   "execution_count": null,
   "id": "89ec18ba",
   "metadata": {},
   "outputs": [],
   "source": [
    "X = full_df.drop(columns=[\"Churn\"])\n",
    "y = full_df[\"Churn\"]\n",
    "X_train_full, X_test, y_train_full, y_test = train_test_split(\n",
    "    X, y, \n",
    "    test_size=0.2, \n",
    "    random_state=42, \n",
    "    stratify=y\n",
    ")\n",
    "X_train, X_valid, y_train, y_valid = train_test_split(\n",
    "    X_train_full, y_train_full, \n",
    "    test_size=0.25, \n",
    "    random_state=42, \n",
    "    stratify=y_train_full\n",
    ")\n",
    "scaler = StandardScaler()\n",
    "scaler.fit(X_train)\n",
    "\n",
    "X_train_scaled = scaler.transform(X_train)\n",
    "X_valid_scaled = scaler.transform(X_valid)\n",
    "X_test_scaled = scaler.transform(X_test)\n",
    "\n",
    "X_train_scaled = pd.DataFrame(X_train_scaled, columns=X_train.columns)\n",
    "X_valid_scaled = pd.DataFrame(X_valid_scaled, columns=X_valid.columns)\n",
    "X_test_scaled = pd.DataFrame(X_test_scaled, columns=X_test.columns)\n",
    "\n",
    "X_train_scaled.to_csv(os.path.join(project_root , \"notebooks\",\"data\", \"X_train_scaled_merged.csv\"), index=False)\n",
    "y_train.to_csv(os.path.join(project_root , \"notebooks\",\"data\", \"y_train_merged.csv\"), index=False)\n",
    "\n",
    "X_valid_scaled.to_csv(os.path.join(project_root , \"notebooks\",\"data\", \"X_valid_scaled_merged.csv\"), index=False)\n",
    "y_valid.to_csv(os.path.join(project_root , \"notebooks\",\"data\", \"y_valid_merged.csv\"), index=False)\n",
    "\n",
    "X_train_scaled.to_csv(os.path.join(project_root , \"notebooks\",\"data\", \"X_train_scaled_merged.csv\"), index=False)\n",
    "y_train.to_csv(os.path.join(project_root , \"notebooks\",\"data\", \"y_train_merged.csv\"), index=False)\n",
    "\n",
    "X_valid_scaled.to_csv(os.path.join(project_root , \"notebooks\",\"data\", \"X_valid_scaled_merged.csv\"), index=False)\n",
    "y_valid.to_csv(os.path.join(project_root , \"notebooks\",\"data\", \"y_valid_merged.csv\"), index=False)\n",
    "\n",
    "X_test_scaled.to_csv(os.path.join(project_root , \"notebooks\",\"data\", \"X_test_scaled_merged.csv\"), index=False)\n",
    "y_test.to_csv(os.path.join(project_root , \"notebooks\",\"data\", \"y_test_merged.csv\"), index=False)\n",
    "\n"
   ]
  },
  {
   "cell_type": "code",
   "execution_count": 26,
   "id": "b78be55a",
   "metadata": {},
   "outputs": [
    {
     "name": "stdout",
     "output_type": "stream",
     "text": [
      "\n",
      "Splitting and scaling complete!\n",
      "Final Training set shape: (303123, 10)\n",
      "Validation set shape: (101041, 10)\n",
      "Test set shape: (101042, 10)\n"
     ]
    }
   ],
   "source": [
    "print(\"\\nSplitting and scaling complete!\")\n",
    "print(f\"Final Training set shape: {X_train_scaled.shape}\")\n",
    "print(f\"Validation set shape: {X_valid_scaled.shape}\")\n",
    "print(f\"Test set shape: {X_test_scaled.shape}\")\n"
   ]
  },
  {
   "cell_type": "code",
   "execution_count": 29,
   "id": "cd83db40",
   "metadata": {},
   "outputs": [
    {
     "name": "stdout",
     "output_type": "stream",
     "text": [
      "\n",
      "--- Starting Run: Baseline Logistic Regression ---\n",
      "Training Logistic Regression...\n"
     ]
    },
    {
     "name": "stderr",
     "output_type": "stream",
     "text": [
      "2025/08/24 12:39:33 WARNING mlflow.models.model: `artifact_path` is deprecated. Please use `name` instead.\n"
     ]
    },
    {
     "name": "stdout",
     "output_type": "stream",
     "text": [
      "Evaluating on Validation Set...\n",
      "Validation F1-Score: 0.8259\n",
      "Evaluating on Test Set...\n",
      "Test F1-Score: 0.8268\n"
     ]
    },
    {
     "name": "stderr",
     "output_type": "stream",
     "text": [
      "2025/08/24 12:39:39 WARNING mlflow.utils.environment: Failed to resolve installed pip version. ``pip`` will be added to conda.yaml environment spec without a version specifier.\n",
      "2025/08/24 12:39:39 WARNING mlflow.models.model: Model logged without a signature and input example. Please set `input_example` parameter when logging the model to auto infer the model signature.\n"
     ]
    },
    {
     "name": "stdout",
     "output_type": "stream",
     "text": [
      "--- Run Finished ---\n"
     ]
    }
   ],
   "source": [
    "mlflow.set_experiment(\"Customer_Churn_New_Split\")\n",
    "\n",
    "\n",
    "with mlflow.start_run(run_name=\"Baseline_Logistic_Regression\") as run:\n",
    "    print(\"\\n--- Starting Run: Baseline Logistic Regression ---\")\n",
    "    \n",
    "    # --- a. Define Model and Parameters ---\n",
    "    # We will start with a simple model without regularization\n",
    "    lgr_params = {\n",
    "        'class_weight': 'balanced',\n",
    "        'random_state': 42\n",
    "    }\n",
    "    lgr = LogisticRegression(**lgr_params)\n",
    "    \n",
    "    mlflow.log_params(lgr_params)\n",
    "\n",
    "    # --- b. Train the Model ---\n",
    "    print(\"Training Logistic Regression...\")\n",
    "    # Make sure y_train, y_valid, y_test are 1D arrays using .values.ravel()\n",
    "    lgr.fit(X_train_scaled, y_train.values.ravel())\n",
    "    \n",
    "    # --- c. Evaluate on Validation Set ---\n",
    "    print(\"Evaluating on Validation Set...\")\n",
    "    y_pred_val = lgr.predict(X_valid_scaled)\n",
    "    val_f1 = f1_score(y_valid, y_pred_val)\n",
    "    val_accuracy = accuracy_score(y_valid, y_pred_val)\n",
    "    \n",
    "    mlflow.log_metric(\"validation_accuracy\", val_accuracy)\n",
    "    mlflow.log_metric(\"validation_f1_score\", val_f1)\n",
    "    print(f\"Validation F1-Score: {val_f1:.4f}\")\n",
    "\n",
    "    # --- d. Evaluate on Test Set ---\n",
    "    print(\"Evaluating on Test Set...\")\n",
    "    y_pred_test = lgr.predict(X_test_scaled)\n",
    "    test_f1 = f1_score(y_test, y_pred_test)\n",
    "    test_accuracy = accuracy_score(y_test, y_pred_test)\n",
    "    test_precision = precision_score(y_test, y_pred_test)\n",
    "    test_recall = recall_score(y_test, y_pred_test)\n",
    "    \n",
    "    mlflow.log_metric(\"test_accuracy\", test_accuracy)\n",
    "    mlflow.log_metric(\"test_precision\", test_precision)\n",
    "    mlflow.log_metric(\"test_recall\", test_recall)\n",
    "    mlflow.log_metric(\"test_f1_score\", test_f1)\n",
    "    print(f\"Test F1-Score: {test_f1:.4f}\")\n",
    "\n",
    "    # --- e. Log the Model ---\n",
    "    mlflow.sklearn.log_model(lgr, \"logistic_regression_model\")\n",
    "    \n",
    "    print(\"--- Run Finished ---\")"
   ]
  },
  {
   "cell_type": "code",
   "execution_count": null,
   "id": "a0bccd4f",
   "metadata": {},
   "outputs": [],
   "source": [
    "!mlflow ui\n"
   ]
  },
  {
   "cell_type": "code",
   "execution_count": null,
   "id": "b5a24487",
   "metadata": {},
   "outputs": [],
   "source": []
  }
 ],
 "metadata": {
  "kernelspec": {
   "display_name": ".venv",
   "language": "python",
   "name": "python3"
  },
  "language_info": {
   "codemirror_mode": {
    "name": "ipython",
    "version": 3
   },
   "file_extension": ".py",
   "mimetype": "text/x-python",
   "name": "python",
   "nbconvert_exporter": "python",
   "pygments_lexer": "ipython3",
   "version": "3.13.5"
  }
 },
 "nbformat": 4,
 "nbformat_minor": 5
}
